{
 "cells": [
  {
   "cell_type": "code",
   "execution_count": 1,
   "metadata": {},
   "outputs": [],
   "source": [
    "import heapq as hq"
   ]
  },
  {
   "cell_type": "code",
   "execution_count": 6,
   "metadata": {},
   "outputs": [],
   "source": [
    "def solution(scoville, K):\n",
    "    count = 0\n",
    "    hq.heapify(scoville)\n",
    "    while len(scoville) > 1:\n",
    "        food1 = hq.heappop(scoville)\n",
    "        food2 = hq.heappop(scoville)\n",
    "        if food1 < K or food2 < K:\n",
    "            hq.heappush(scoville, food1+(food2*2))\n",
    "            count += 1\n",
    "        else:\n",
    "            return count\n",
    "    if scoville[0] > K:\n",
    "        return count\n",
    "    else:\n",
    "        return -1"
   ]
  },
  {
   "cell_type": "code",
   "execution_count": 7,
   "metadata": {},
   "outputs": [
    {
     "data": {
      "text/plain": [
       "2"
      ]
     },
     "execution_count": 7,
     "metadata": {},
     "output_type": "execute_result"
    }
   ],
   "source": [
    "scoville = [1, 2, 3, 9, 10, 12]\n",
    "K = 7\n",
    "solution(scoville, K)"
   ]
  },
  {
   "cell_type": "code",
   "execution_count": 8,
   "metadata": {},
   "outputs": [],
   "source": [
    "def solution(scoville, K):\n",
    "    hq.heapify(scoville)\n",
    "    count = 0\n",
    "    while scoville[0] < K:\n",
    "        if len(scoville) < 2:\n",
    "            count = -1\n",
    "            break\n",
    "        else:\n",
    "            food1 = hq.heappop(scoville)\n",
    "            food2 = hq.heappop(scoville)\n",
    "            hq.heappush(scoville, food1+(food2*2))\n",
    "            count += 1\n",
    "    return count"
   ]
  },
  {
   "cell_type": "code",
   "execution_count": 9,
   "metadata": {},
   "outputs": [
    {
     "data": {
      "text/plain": [
       "2"
      ]
     },
     "execution_count": 9,
     "metadata": {},
     "output_type": "execute_result"
    }
   ],
   "source": [
    "scoville = [1, 2, 3, 9, 10, 12]\n",
    "K = 7\n",
    "solution(scoville, K)"
   ]
  },
  {
   "cell_type": "code",
   "execution_count": 53,
   "metadata": {},
   "outputs": [
    {
     "name": "stdout",
     "output_type": "stream",
     "text": [
      "[2, 7, 6, 10, 9, 15, 20]\n"
     ]
    }
   ],
   "source": [
    "import heapq as hq\n",
    "\n",
    "scoville = [10, 2, 6, 7, 9, 15, 20]\n",
    "hq.heapify(scoville)\n",
    "print(scoville)"
   ]
  },
  {
   "cell_type": "code",
   "execution_count": 13,
   "metadata": {},
   "outputs": [
    {
     "name": "stdout",
     "output_type": "stream",
     "text": [
      "[6, 9, 7, 10, 20, 15]\n"
     ]
    }
   ],
   "source": [
    "hq.heappop(scoville)\n",
    "print(scoville)"
   ]
  },
  {
   "cell_type": "code",
   "execution_count": 15,
   "metadata": {},
   "outputs": [
    {
     "name": "stdout",
     "output_type": "stream",
     "text": [
      "[7, 9, 15, 10, 20, 16]\n"
     ]
    }
   ],
   "source": [
    "hq.heappush(scoville, scoville[0]+scoville[1])\n",
    "print(scoville)"
   ]
  }
 ],
 "metadata": {
  "kernelspec": {
   "display_name": "Python 3",
   "language": "python",
   "name": "python3"
  },
  "language_info": {
   "codemirror_mode": {
    "name": "ipython",
    "version": 3
   },
   "file_extension": ".py",
   "mimetype": "text/x-python",
   "name": "python",
   "nbconvert_exporter": "python",
   "pygments_lexer": "ipython3",
   "version": "3.7.4"
  }
 },
 "nbformat": 4,
 "nbformat_minor": 2
}
